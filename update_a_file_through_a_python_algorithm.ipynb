{
 "cells": [
  {
   "attachments": {},
   "cell_type": "markdown",
   "metadata": {},
   "source": [
    "## Project Description:\n",
    "In this project, as a security professional in a healthcare company, I used the Python programming language to update a file that controls restricted access to sensitive data. The access permission is based on employees' IP addresses, which were mapped to a permission list. I used file and list manipulation techniques to remove certain IP addresses from this permission list, thus improving the company's data security.\n",
    "\n",
    "## Opening the file containing the permission list:\n",
    "To open the file \"allow_list.txt\" that contains the permission list, we use the open() function in Python, which requires the file name as a string as its first argument. The open() function also accepts a second argument that determines the mode in which the file should be opened - we use 'r' to open the file in read mode. This file is managed as a file object stored in the variable \"file\" within a with code block, which automatically handles the file closure after its use."
   ]
  },
  {
   "cell_type": "code",
   "execution_count": null,
   "metadata": {},
   "outputs": [],
   "source": [
    "import_file = \"data/allow_list.txt\"\n",
    "\n",
    "with open(import_file, 'r') as file:"
   ]
  },
  {
   "attachments": {},
   "cell_type": "markdown",
   "metadata": {},
   "source": [
    "## Reading the file's content:\n",
    "\n",
    "We use the .read() method to read the content of the file. This method reads the entire content of the file and returns it as a single string. We store this string in the variable \"ip_addresses\"."
   ]
  },
  {
   "cell_type": "code",
   "execution_count": 21,
   "metadata": {},
   "outputs": [
    {
     "name": "stdout",
     "output_type": "stream",
     "text": [
      "192.168.218.160\n",
      "192.168.145.158\n",
      "192.168.108.13\n",
      "192.168.96.200\n",
      "192.168.247.153\n",
      "192.168.3.252\n",
      "192.168.116.187\n",
      "192.168.15.110\n",
      "192.168.39.246\n"
     ]
    }
   ],
   "source": [
    "import_file = \"data/allow_list.txt\"\n",
    "\n",
    "with open(import_file, 'r') as file:\n",
    "    \n",
    "    ip_addresses = file.read()\n",
    "\n",
    "print(ip_addresses)"
   ]
  },
  {
   "attachments": {},
   "cell_type": "markdown",
   "metadata": {},
   "source": [
    "## Converting the string into a list:\n",
    "\n",
    "To convert the string \"ip_addresses\" into a list, we use the .split() method, which splits a string into a list where each word is an item in the list. In our case, the IP addresses are separated by line breaks ('\\n'), so we pass that as an argument to the .split() method."
   ]
  },
  {
   "cell_type": "code",
   "execution_count": 22,
   "metadata": {},
   "outputs": [
    {
     "name": "stdout",
     "output_type": "stream",
     "text": [
      "['192.168.218.160', '192.168.145.158', '192.168.108.13', '192.168.96.200', '192.168.247.153', '192.168.3.252', '192.168.116.187', '192.168.15.110', '192.168.39.246']\n"
     ]
    }
   ],
   "source": [
    "\n",
    "import_file = \"data/allow_list.txt\"\n",
    "\n",
    "with open(import_file, 'r') as file:\n",
    "    \n",
    "    ip_addresses = file.read()\n",
    "    \n",
    "ip_addresses = ip_addresses.split('\\n')\n",
    "\n",
    "print(ip_addresses)"
   ]
  },
  {
   "attachments": {},
   "cell_type": "markdown",
   "metadata": {},
   "source": [
    "## Iterating over the removal list:\n",
    "\n",
    "A removal list, called \"remove_list\", containing IP addresses to be removed, is traversed using a for loop. Each item in the list is accessed sequentially and used as the loop variable."
   ]
  },
  {
   "cell_type": "code",
   "execution_count": 23,
   "metadata": {},
   "outputs": [
    {
     "name": "stdout",
     "output_type": "stream",
     "text": [
      "192.168.97.225\n",
      "192.168.158.170\n",
      "192.168.201.40\n",
      "192.168.58.57\n",
      "192.168.108.13\n"
     ]
    }
   ],
   "source": [
    "\n",
    "import_file = \"data/allow_list.txt\"\n",
    "\n",
    "remove_list = [\"192.168.97.225\", \"192.168.158.170\", \"192.168.201.40\", \"192.168.58.57\", \"192.168.108.13\"]\n",
    "\n",
    "with open(import_file, 'r') as file:\n",
    "    \n",
    "    ip_addresses = file.read()\n",
    "    \n",
    "ip_addresses = ip_addresses.split('\\n')\n",
    "\n",
    "for remove_ip in remove_list:\n",
    "    \n",
    "    print(remove_ip)\n"
   ]
  },
  {
   "attachments": {},
   "cell_type": "markdown",
   "metadata": {},
   "source": [
    "## Removing IP addresses that are in the removal list:\n",
    "\n",
    "Within the for loop, we use an if statement to check if the current IP address (the loop variable) is in the ip_addresses list. If it is, we use the .remove() method to remove that IP address from the list."
   ]
  },
  {
   "cell_type": "code",
   "execution_count": 24,
   "metadata": {},
   "outputs": [
    {
     "name": "stdout",
     "output_type": "stream",
     "text": [
      "['192.168.218.160', '192.168.145.158', '192.168.96.200', '192.168.247.153', '192.168.3.252', '192.168.116.187', '192.168.15.110', '192.168.39.246']\n"
     ]
    }
   ],
   "source": [
    "      \n",
    "import_file = \"data/allow_list.txt\"\n",
    "\n",
    "remove_list = [\"192.168.97.225\", \"192.168.158.170\", \"192.168.201.40\", \"192.168.58.57\", \"192.168.108.13\"]\n",
    "\n",
    "with open(import_file, 'r') as file:\n",
    "    \n",
    "    ip_addresses = file.read()\n",
    "    \n",
    "ip_addresses = ip_addresses.split('\\n')\n",
    "\n",
    "for remove_ip in remove_list:\n",
    "\n",
    "    if remove_ip in ip_addresses:\n",
    "        \n",
    "        ip_addresses.remove(remove_ip)\n",
    "    \n",
    "print(ip_addresses)"
   ]
  },
  {
   "attachments": {},
   "cell_type": "markdown",
   "metadata": {},
   "source": [
    "## Updating the file with the revised list of IP addresses:\n",
    "\n",
    "First, we convert the ip_addresses list back into a string using the .join() method. This method concatenates all items in a list into a single string. We use '\\n' (a newline) as the delimiter.\n",
    "\n",
    "Then, we use the open() function again, this time with the 'w' (write) mode to overwrite the file. Inside the with block, we use the .write() method to write the IP address string into the file."
   ]
  },
  {
   "cell_type": "code",
   "execution_count": 25,
   "metadata": {},
   "outputs": [
    {
     "name": "stdout",
     "output_type": "stream",
     "text": [
      "['192.168.218.160', '192.168.145.158', '192.168.96.200', '192.168.247.153', '192.168.3.252', '192.168.116.187', '192.168.15.110', '192.168.39.246']\n"
     ]
    }
   ],
   "source": [
    "import_file = \"data/allow_list.txt\"\n",
    "\n",
    "remove_list = [\"192.168.97.225\", \"192.168.158.170\", \"192.168.201.40\", \"192.168.58.57\", \"192.168.108.13\"]\n",
    "\n",
    "with open(import_file, 'r') as file:\n",
    "    ip_addresses = file.read().split('\\n')\n",
    "\n",
    "for remove_ip in remove_list:\n",
    "    if remove_ip in ip_addresses:\n",
    "        ip_addresses.remove(remove_ip)\n",
    "\n",
    "new_ip_addresses = '\\n'.join(ip_addresses)\n",
    "\n",
    "with open(import_file, 'w') as file:\n",
    "    file.write(new_ip_addresses)\n",
    "\n",
    "print(ip_addresses)\n"
   ]
  },
  {
   "cell_type": "markdown",
   "metadata": {},
   "source": []
  }
 ],
 "metadata": {
  "kernelspec": {
   "display_name": "venv",
   "language": "python",
   "name": "python3"
  },
  "language_info": {
   "codemirror_mode": {
    "name": "ipython",
    "version": 3
   },
   "file_extension": ".py",
   "mimetype": "text/x-python",
   "name": "python",
   "nbconvert_exporter": "python",
   "pygments_lexer": "ipython3",
   "version": "3.11.3"
  },
  "orig_nbformat": 4
 },
 "nbformat": 4,
 "nbformat_minor": 2
}
