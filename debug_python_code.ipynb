{
 "cells": [
  {
   "attachments": {},
   "cell_type": "markdown",
   "metadata": {},
   "source": [
    "# Debug Python Code\n",
    "\n",
    "## Introduction\n",
    "\n",
    "One of the biggest challenges faced by analysts is ensuring that automated processes run smoothly. Debugging is an important practice that security analysts incorporate in their work to identify errors in code and resolve them so that the code achieves the desired outcome. \n",
    "\n",
    "Through a series of tasks in this lab, you'll develop and apply your debugging skills in Python.\n",
    "\n",
    "<details><summary><h2>Tips for completing this lab</h2></summary>\n",
    "\n",
    "As you navigate this lab, keep the following tips in mind:\n",
    "\n",
    "- `### YOUR CODE HERE ###` indicates where you should write code. Be sure to replace this with your own code before running the code cell.\n",
    "- Feel free to open the hints for additional guidance as you work on each task. \n",
    "- To enter your answer to a question, double-click the markdown cell to edit. Be sure to replace the \"[Double-click to enter your responses here.]\" with your own answer.\n",
    "- You can save your work manually by clicking File and then Save in the menu bar at the top of the notebook. \n",
    "- You can download your work locally by clicking File and then Download and then specifying your preferred file format in the menu bar at the top of the notebook. \n",
    "</details>\n",
    "\n",
    "## Scenario\n",
    "\n",
    "In your work as a security analyst, you need to apply debugging strategies to ensure your code works properly.\n",
    "\n",
    "Throughout this lab, you'll work with code that is similar to what you've written before, but now it has some errors that need to be fixed. You'll need to read code cells, run them, identify the errors, and adjust the code to resolve the errors.\n",
    "\n",
    "## Task 1\n",
    "\n",
    "The following code cell contains a syntax error. In this task, you'll run the code, identify why the error is occuring, and modify the code to resolve it. (To ensure that it has been resolved, run the code again to check if it now functions properly.)"
   ]
  },
  {
   "cell_type": "code",
   "execution_count": 1,
   "metadata": {},
   "outputs": [
    {
     "name": "stdout",
     "output_type": "stream",
     "text": [
      "Connection cannot be established\n",
      "Connection cannot be established\n",
      "Connection cannot be established\n",
      "Connection cannot be established\n",
      "Connection cannot be established\n",
      "Connection cannot be established\n",
      "Connection cannot be established\n",
      "Connection cannot be established\n",
      "Connection cannot be established\n",
      "Connection cannot be established\n"
     ]
    }
   ],
   "source": [
    "# For loop that iterates over a range of numbers\n",
    "# and displays a message each iteration\n",
    "\n",
    "for i in range(10):\n",
    "    print(\"Connection cannot be established\")\n"
   ]
  },
  {
   "attachments": {},
   "cell_type": "markdown",
   "metadata": {},
   "source": [
    "<details>\n",
    "  <summary><h4><strong>Hint 1</strong></h4></summary>\n",
    "\n",
    "The header of a `for` loop in Python requires specific punctuation at the end.\n",
    "\n",
    "</details>\n",
    "\n",
    "<details>\n",
    "  <summary><h4><strong>Hint 2</strong></h4></summary>\n",
    "\n",
    "The header of a `for` loop in Python requires a colon (`:`) at the end. \n",
    "\n",
    "</details>\n",
    "\n",
    "#### **Question 1**\n",
    "**What happens when you run the code before modifying it? How can you fix this?**\n",
    "\n",
    "When the code is run before it's modified, the output shows `SyntaxError: invalid syntax`, which indicates that there is a syntax error. The syntax error is caused by the missing `:` at the end of the `for` loop header. To fix this, you can add `:` at that position.\n",
    "\n",
    "## Task 2\n",
    "In the following code cell, you're provided a list of usernames. There is an issue with the syntax. In this task, you'll run the cell, observe what happens, and modify the code to fix the issue.\n"
   ]
  },
  {
   "cell_type": "code",
   "execution_count": 2,
   "metadata": {},
   "outputs": [
    {
     "name": "stdout",
     "output_type": "stream",
     "text": [
      "['djames', 'jpark', 'tbailey', 'zdutchma', 'esmith', 'srobinso', 'dcoleman', 'fbautist']\n"
     ]
    }
   ],
   "source": [
    "# Assign `usernames_list` to a list of usernames\n",
    "\n",
    "usernames_list = [\"djames\", \"jpark\", \"tbailey\", \"zdutchma\", \"esmith\", \"srobinso\", \"dcoleman\", \"fbautist\"]\n",
    "\n",
    "# Display `usernames_list`\n",
    "\n",
    "print(usernames_list)\n"
   ]
  },
  {
   "attachments": {},
   "cell_type": "markdown",
   "metadata": {},
   "source": [
    "<details>\n",
    "  <summary><h4><strong>Hint 1</strong></h4></summary>\n",
    "\n",
    "Each element in `usernames_list` is a username and should be a string. In Python, a string should have quotation marks around it.\n",
    "\n",
    "</details>\n",
    "\n",
    "<details>\n",
    "  <summary><h4><strong>Hint 2</strong></h4></summary>\n",
    "\n",
    "When creating a list in Python, the elements of the list should be separated with commas. There should be a comma between every two consecutive elements. \n",
    "\n",
    "</details>\n",
    "\n",
    "#### **Question 2**\n",
    "**What happens when you run the code before modifying it? How can you fix it?**\n",
    "\n",
    "When the code is run before it's modified, the output shows `SyntaxError: invalid syntax`. The issue occurred when assigning a value to `usernames_list`. The fourth username is missing a closing quotation mark, and there is a missing comma between the fourth and fifth usernames. Each username in the list should be a string, and commas should be used to separate one username from the next. To fix the syntax error, you can add a closing quotation mark to properly specify the fourth username as a string and then add a comma between the fourth and fifth usernames to separate them. So instead of `\"zdutchma \"esmith\",`, it should say `\"zdutchma\", \"esmith\",`.\n",
    "\n",
    "## Task 3\n",
    "In the following code cell, there is a syntax error. Your task is to run the cell, identify what is causing the error, and fix it.\n"
   ]
  },
  {
   "cell_type": "code",
   "execution_count": 3,
   "metadata": {},
   "outputs": [
    {
     "name": "stdout",
     "output_type": "stream",
     "text": [
      "UPDATE NEEDED\n"
     ]
    }
   ],
   "source": [
    "# Display a message in upper case \n",
    "\n",
    "print(\"update needed\".upper())\n"
   ]
  },
  {
   "attachments": {},
   "cell_type": "markdown",
   "metadata": {},
   "source": [
    "<details>\n",
    "  <summary><h4><strong>Hint 1</strong></h4></summary>\n",
    "\n",
    "Calling a function in Python requires both opening and closing parantheses. \n",
    "\n",
    "</details>\n",
    "\n",
    "<details>\n",
    "  <summary><h4><strong>Hint 2</strong></h4></summary>\n",
    "\n",
    "In the code above, check that each function call has both opening and closing parantheses. \n",
    "\n",
    "</details>\n",
    "\n",
    "#### **Question 3**\n",
    "**What happens when you run the code before modifying it? What is causing the syntax error? How can you fix it?**\n",
    "\n",
    "When the code is run before it's modified, the output shows `SyntaxError: unexpected EOF while parsing`. This is caused by the missing closing paranthesis at the end of the `print()` statement. To fix this, you can add `)` at the end of the line.\n",
    "\n",
    "## Task 4\n",
    "In the following code cell, you're provided a `usernames_list`, a `username`, and code that determines whether the username is approved. There are two syntax errors and one exception. Your task is to find them and fix the code. A helpful debugging strategy is to focus on one error at a time and run the code after fixing each one.\n"
   ]
  },
  {
   "cell_type": "code",
   "execution_count": 4,
   "metadata": {},
   "outputs": [
    {
     "name": "stdout",
     "output_type": "stream",
     "text": [
      "The user is an approved user\n"
     ]
    }
   ],
   "source": [
    "# Assign `usernames_list` to a list of usernames that represent approved users\n",
    "\n",
    "usernames_list = [\"djames\", \"jpark\", \"tbailey\", \"zdutchma\", \"esmith\", \"srobinso\", \"dcoleman\", \"fbautist\"]\n",
    "\n",
    "# Assign `username` to a specific username \n",
    "\n",
    "username = \"esmith\"\n",
    "\n",
    "# For loop that iterates over the elements of `usernames_list` and determines whether each element corresponds to an approved user\n",
    "\n",
    "for name in usernames_list:\n",
    "\n",
    "    # Check if `name` matches `username` \n",
    "    # If it does match, then display a message accordingly \n",
    "\n",
    "    if name == username:\n",
    "        print(\"The user is an approved user\")\n"
   ]
  },
  {
   "attachments": {},
   "cell_type": "markdown",
   "metadata": {},
   "source": [
    "<details>\n",
    "  <summary><h4><strong>Hint 1</strong></h4></summary>\n",
    "\n",
    "In Python, the `=` assignment operator allows you to assign or reassign a variable to a value, and the `==` comparison operator allows you to compare one value to another (or the value of one variable to the value of another). \n",
    "\n",
    "</details>\n",
    "\n",
    "<details>\n",
    "  <summary><h4><strong>Hint 2</strong></h4></summary>\n",
    "\n",
    "Indentation is important in Python syntax. Check that the indentation inside the `for` loop and the indentation inside the `if` statement are correct.\n",
    "\n",
    "</details>\n",
    "\n",
    "<details>\n",
    "  <summary><h4><strong>Hint 3</strong></h4></summary>\n",
    "\n",
    "Check that each time a variable is used, it's spelled in the same way it was spelled when it was assigned. \n",
    "\n",
    "</details>\n",
    "\n",
    "#### **Question 4**\n",
    "**What happens when you run the code before modifying it? What is causing the errors? How can you fix it?**\n",
    "\n",
    "When the code is run before it's modified, the output shows `SyntaxError: invalid syntax`, as that's the first error that Python encounters in this code. There are three issues in the code:\n",
    "1. In the `if` condition, the `=` assignment operator is used instead of the `==` comparison operator, causing a syntax error. To fix this, you can replace `=` with `==`. \n",
    "2. Inside the `if` statement, indentation is missing, causing a syntax error. To fix this, you can add appropriate indentation before the `print()` statement.\n",
    "3. The variable `usernames_list` is misspelled in the `for` loop condition. It's spelled as `username_list` there, causing an exception. To fix this, you can add the missing `s` in the appropriate spot.\n",
    "\n",
    "\n",
    "## Task 5\n",
    "\n",
    "In this task, you'll examine the following code and identify the type of error that occurs. Then, you'll adjust the code to fix the error.\n"
   ]
  },
  {
   "cell_type": "code",
   "execution_count": 5,
   "metadata": {},
   "outputs": [
    {
     "name": "stdout",
     "output_type": "stream",
     "text": [
      "This username is the final one in the list.\n"
     ]
    }
   ],
   "source": [
    "# Assign `usernames_list` to a list of usernames\n",
    "\n",
    "usernames_list = [\"elarson\", \"bmoreno\", \"tshah\", \"sgilmore\", \"eraab\"]\n",
    "\n",
    "# Assign `username` to a specific username\n",
    "\n",
    "username = \"eraab\"\n",
    "\n",
    "# Determine whether `username` is the final username in `usernames_list` \n",
    "# If it is, then display a message accordingly \n",
    "\n",
    "if username == usernames_list[4]:\n",
    "    print(\"This username is the final one in the list.\")\n"
   ]
  },
  {
   "attachments": {},
   "cell_type": "markdown",
   "metadata": {},
   "source": [
    "<details>\n",
    "  <summary><h4><strong>Hint 1</strong></h4></summary>\n",
    "\n",
    "Recall that indexing in Python starts at `0`.\n",
    "\n",
    "</details>\n",
    "\n",
    "<details>\n",
    "  <summary><h4><strong>Hint 2</strong></h4></summary>\n",
    "\n",
    "Identify how many elements there are in the `usernames_list`.\n",
    "\n",
    "</details>\n",
    "\n",
    "<details>\n",
    "  <summary><h4><strong>Hint 3</strong></h4></summary>\n",
    "\n",
    "Since indexing in Python starts at `0` and the `usernames_list` contains `5` elements, identify which index value corresponds to the final element in `usernames_list`.\n",
    "\n",
    "</details>\n",
    "\n",
    "#### **Question 5**\n",
    "**What happens when you run the code before modifying it? What type of error is this? How can you fix it?**\n",
    "\n",
    "When the code is run before it's modified, the output shows `IndexError: list index out of range`, which means that there is an index error, and it's caused by an invalid index value that is being used with a list. Note that an index error is a type of exception in Python. Also, recall that indexing in Python starts at `0` and the `usernames_list` has a length of `5`. So `4` is the index value corresponds to the final element in `usernames_list`. `5` is not a valid index in `usernames_list`. You can fix the error by replacing `5` with `4`.\n",
    "\n",
    "## Task 6\n",
    "In this task, you'll examine the following code. The code imports a text file into Python, reads its contents, and stores the contents as a list in a variable named `ip_addresses`. It then removes elements from `ip_addresses` if they are in `remove_list`. There are three errors in total in the code: first a syntax error, then an exception related to a string method, and finally a logic error. Your goal is to find these errors and fix them.\n"
   ]
  },
  {
   "cell_type": "code",
   "execution_count": 6,
   "metadata": {},
   "outputs": [
    {
     "ename": "FileNotFoundError",
     "evalue": "[Errno 2] No such file or directory: 'allow_list.txt'",
     "output_type": "error",
     "traceback": [
      "\u001b[1;31m---------------------------------------------------------------------------\u001b[0m",
      "\u001b[1;31mFileNotFoundError\u001b[0m                         Traceback (most recent call last)",
      "Cell \u001b[1;32mIn[6], line 11\u001b[0m\n\u001b[0;32m      7\u001b[0m remove_list \u001b[39m=\u001b[39m [\u001b[39m\"\u001b[39m\u001b[39m192.168.97.225\u001b[39m\u001b[39m\"\u001b[39m, \u001b[39m\"\u001b[39m\u001b[39m192.168.158.170\u001b[39m\u001b[39m\"\u001b[39m, \u001b[39m\"\u001b[39m\u001b[39m192.168.201.40\u001b[39m\u001b[39m\"\u001b[39m, \u001b[39m\"\u001b[39m\u001b[39m192.168.58.57\u001b[39m\u001b[39m\"\u001b[39m]\n\u001b[0;32m      9\u001b[0m \u001b[39m# With statement that reads in the text file and stores its contents in `ip_addresses`\u001b[39;00m\n\u001b[1;32m---> 11\u001b[0m \u001b[39mwith\u001b[39;00m \u001b[39mopen\u001b[39;49m(import_file, \u001b[39m\"\u001b[39;49m\u001b[39mr\u001b[39;49m\u001b[39m\"\u001b[39;49m) \u001b[39mas\u001b[39;00m file:\n\u001b[0;32m     12\u001b[0m     ip_addresses \u001b[39m=\u001b[39m file\u001b[39m.\u001b[39mread()\n\u001b[0;32m     14\u001b[0m \u001b[39m# Convert `ip_addresses` from a string to a list\u001b[39;00m\n",
      "File \u001b[1;32mc:\\Users\\coder\\Dropbox\\PC\\Documents\\Coder Projects\\Git Hub\\Portifólio\\automate-cybersecurity-tasks-with-Python\\venv\\Lib\\site-packages\\IPython\\core\\interactiveshell.py:284\u001b[0m, in \u001b[0;36m_modified_open\u001b[1;34m(file, *args, **kwargs)\u001b[0m\n\u001b[0;32m    277\u001b[0m \u001b[39mif\u001b[39;00m file \u001b[39min\u001b[39;00m {\u001b[39m0\u001b[39m, \u001b[39m1\u001b[39m, \u001b[39m2\u001b[39m}:\n\u001b[0;32m    278\u001b[0m     \u001b[39mraise\u001b[39;00m \u001b[39mValueError\u001b[39;00m(\n\u001b[0;32m    279\u001b[0m         \u001b[39mf\u001b[39m\u001b[39m\"\u001b[39m\u001b[39mIPython won\u001b[39m\u001b[39m'\u001b[39m\u001b[39mt let you open fd=\u001b[39m\u001b[39m{\u001b[39;00mfile\u001b[39m}\u001b[39;00m\u001b[39m by default \u001b[39m\u001b[39m\"\u001b[39m\n\u001b[0;32m    280\u001b[0m         \u001b[39m\"\u001b[39m\u001b[39mas it is likely to crash IPython. If you know what you are doing, \u001b[39m\u001b[39m\"\u001b[39m\n\u001b[0;32m    281\u001b[0m         \u001b[39m\"\u001b[39m\u001b[39myou can use builtins\u001b[39m\u001b[39m'\u001b[39m\u001b[39m open.\u001b[39m\u001b[39m\"\u001b[39m\n\u001b[0;32m    282\u001b[0m     )\n\u001b[1;32m--> 284\u001b[0m \u001b[39mreturn\u001b[39;00m io_open(file, \u001b[39m*\u001b[39;49margs, \u001b[39m*\u001b[39;49m\u001b[39m*\u001b[39;49mkwargs)\n",
      "\u001b[1;31mFileNotFoundError\u001b[0m: [Errno 2] No such file or directory: 'allow_list.txt'"
     ]
    }
   ],
   "source": [
    "# Assign `import_file` to the name of the text file\n",
    "\n",
    "import_file = \"allow_list.txt\"\n",
    "\n",
    "# Assign `remove_list` to a list of IP addressess that are no longer allowed to access the network \n",
    "\n",
    "remove_list = [\"192.168.97.225\", \"192.168.158.170\", \"192.168.201.40\", \"192.168.58.57\"]\n",
    "\n",
    "# With statement that reads in the text file and stores its contents in `ip_addresses`\n",
    "\n",
    "with open(import_file, \"r\") as file:\n",
    "    ip_addresses = file.read()\n",
    "\n",
    "# Convert `ip_addresses` from a string to a list\n",
    "\n",
    "ip_addresses = ip_addresses.split()\n",
    "\n",
    "# For loop that iterates over the elements in `ip_addresses` \n",
    "# and removes each element that corresponds to an IP address that is no longer allowed\n",
    "\n",
    "for element in ip_addresses:\n",
    "    if element in remove_list:\n",
    "        ip_addresses.remove(element)\n",
    "\n",
    "# Display `ip_addresses` after the removal process\n",
    "\n",
    "print(ip_addresses)\n"
   ]
  },
  {
   "attachments": {},
   "cell_type": "markdown",
   "metadata": {},
   "source": [
    "<details>\n",
    "  <summary><h4><strong>Hint 1</strong></h4></summary>\n",
    "\n",
    "A `with` statement in Python requires a colon (`:`) at the end of the header.\n",
    "\n",
    "</details>\n",
    "\n",
    "<details>\n",
    "  <summary><h4><strong>Hint 2</strong></h4></summary>\n",
    "\n",
    "The `.split()` method in Python is used on strings to convert them to lists. To call the `.split()` method, place the string you want to split in front of the method call.\n",
    "\n",
    "</details>\n",
    "\n",
    "<details>\n",
    "  <summary><h4><strong>Hint 3</strong></h4></summary>\n",
    "\n",
    "During each iteration of the `for` loop, the `if` statement needs to determine if the element is in the `remove_list`. Check which list is referenced in the `if` condition.\n",
    "\n",
    "</details>\n",
    "\n",
    "#### **Question 6**\n",
    "**What happens when you run the code before modifying it? What is causing the errors? How can you fix them?**\n",
    "\n",
    "When the code is run before it's modified, the output shows `SyntaxError: invalid syntax`, as that's the first error that Python encounters in this code. There are three errors in the code:\n",
    "1. There is a syntax error because the header of the `with` statement is missing a `:` at the end. To fix this, you can add `:` there. \n",
    "2. There is an exception related to the string method `.split()`. To call this method, you must write the name of the variable that contains the string you want to use, followed by a `.`, and then the name of the method. So to fix, you can replace `split.ip_addresses()` with `ip_addresses.split()`. \n",
    "3. There is a logic error in the `if` statement. The `if` statement should check if each element is in `remove_list`, not `ip_addresses`. If an element is in `remove_list`, that's how Python knows to then remove that element from `ip_addresses`. To fix this, you can replace the `if element in ip_addresses` with `if element in remove_list`.\n",
    "\n",
    "## Task 7\n",
    "In this final task, there are three operating systems: OS 1, OS 2, and OS 3. Each operating system needs a security patch by a specific date. The patch date for OS 1 is `\"March 1st\"`, the patch date for OS 2 is `\"April 1st\"`, and the patch date for OS 3 is `\"May 1st\"`. \n",
    "\n",
    "The following code stores one of these operating systems in a variable named `system`. Then, it uses conditionals to output the patch date for this operating system. \n",
    "\n",
    "However, this code has logic errors. Your goal is to assign the `system` variable to different values, run the code to examine the output, identify the error, and fix it.\n"
   ]
  },
  {
   "cell_type": "code",
   "execution_count": 7,
   "metadata": {},
   "outputs": [
    {
     "name": "stdout",
     "output_type": "stream",
     "text": [
      "Patch date: April 1st\n"
     ]
    }
   ],
   "source": [
    "# Assign `system` to a specific operating system as a string\n",
    "\n",
    "system = \"OS 2\"\n",
    "\n",
    "# Assign `patch_schedule` to a list of patch dates in order of operating system\n",
    "\n",
    "patch_schedule = [\"March 1st\", \"April 1st\", \"May 1st\"]\n",
    "\n",
    "# Conditional statement that checks which operating system is stored in `system` and displays a message showing the corresponding patch date \n",
    "\n",
    "if system == \"OS 1\":\n",
    "    print(\"Patch date:\", patch_schedule[0])\n",
    "\n",
    "elif system == \"OS 2\":\n",
    "    print(\"Patch date:\", patch_schedule[1])\n",
    "\n",
    "elif system == \"OS 3\":\n",
    "    print(\"Patch date:\", patch_schedule[2])\n"
   ]
  },
  {
   "attachments": {},
   "cell_type": "markdown",
   "metadata": {},
   "source": [
    "<details>\n",
    "  <summary><h4><strong>Hint 1</strong></h4></summary>\n",
    "\n",
    "Recall that indexing in Python starts at `0`.\n",
    "\n",
    "</details>\n",
    "\n",
    "<details>\n",
    "  <summary><h4><strong>Hint 2</strong></h4></summary>\n",
    "\n",
    "Note that the patch dates in `patch_schedule` are in order of operating system. The first patch date in `patch_schedule` corresponds to OS 1, the second patch date in `patch_schedule` corresponds to OS 2, and so on.\n",
    "\n",
    "</details>\n",
    "\n",
    "<details>\n",
    "  <summary><h4><strong>Hint 3</strong></h4></summary>\n",
    "\n",
    "Since indexing in Python starts at `0` and `patch_schedule` is in order of operating system from OS 1 to OS 3, the index value `0` corresponds to the patch date for OS 1, the index value `1` corresponds to the patch date for OS 2, and so on.\n",
    "\n",
    "</details>\n",
    "\n",
    "#### **Question 7**\n",
    "**What happens when you run the code before modifying it? What is causing the logic errors? How can you fix them?**\n",
    "\n",
    "When the code is run before it's modified, the `system` variable is assigned to `\"OS 2\"`, but the output is `Patch date: March 1st`. This is not the correct patch date for OS 2. \n",
    "\n",
    "When assigning `system` to `\"OS 1\"`, the output is `Patch date: May 1st`. This is not the correct patch date for OS 1. \n",
    "\n",
    "These logic errors are due to the incorrect index values in the first and second `print()` statements in the code. Note that indexing in Python starts at `0` and `patch_schedule` is in order of operating system from OS 1 to OS 3. To fix the logic errors, you can use `patch_schedule[0]` to get the correct patch date for OS 1 and `patch_schedule[1]` to get the correct patch date for OS 2. \n",
    "\n",
    "## Conclusion\n",
    "\n",
    "**What are your key takeaways from this lab?**\n",
    "\n",
    "- Debugging is an essential practice that analysts use to identify errors in code and fix them to ensure that the code runs smoothly.\n",
    "- Python executes code from top to bottom and stops once it encounters an error. So if there are multiple errors in a code cell, the outputted error message will typically show the first error.  \n",
    "- In Python, common types of errors include syntax errors, logic errors, and exceptions.\n",
    "  - Syntax errors often involve punctuation such as a missing `:` at the end of a `with` statement header and a missing `,` between elements in a list.\n",
    "  - Logic errors could involve incorrect indices when accessing elements from  a list or referencing an incorrect list in an `if` condition.\n",
    "  - Exceptions could involve misspelled variable names or incorrectly called string methods.\n",
    "- A key strategy for debugging is running code and examining if it produces the intended results. If the output isn't correct, or if it displays an the error message, use this to identify which line(s) of the code could be causing the issue. After fixing the code, it's important to run it again to ensure that everything works as expected.\n"
   ]
  }
 ],
 "metadata": {
  "kernelspec": {
   "display_name": "venv",
   "language": "python",
   "name": "python3"
  },
  "language_info": {
   "codemirror_mode": {
    "name": "ipython",
    "version": 3
   },
   "file_extension": ".py",
   "mimetype": "text/x-python",
   "name": "python",
   "nbconvert_exporter": "python",
   "pygments_lexer": "ipython3",
   "version": "3.11.3"
  },
  "orig_nbformat": 4
 },
 "nbformat": 4,
 "nbformat_minor": 2
}
