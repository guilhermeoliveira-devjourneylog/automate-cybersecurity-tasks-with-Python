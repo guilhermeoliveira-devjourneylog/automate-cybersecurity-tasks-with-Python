{
 "cells": [
  {
   "attachments": {},
   "cell_type": "markdown",
   "metadata": {},
   "source": [
    "# Exemplar: Assign Python variables\n",
    "\n",
    "## Introduction\n",
    "\n",
    "Variables help security analysts to keep track of a variety of security-related information. For example, analysts may need to create Python variables for the users who are allowed to log in, the number of login attempts that they're permitted, and the current number of attempts that a user has made.\n",
    "\n",
    "In this lab, you'll practice assigning values to variables and determining their data types.\n",
    "\n",
    "<details><summary><h2>Tips for completing this lab</h2></summary>\n",
    "\n",
    "As you navigate this lab, keep the following tips in mind:\n",
    "\n",
    "- `### YOUR CODE HERE ###` indicates where you should write code. Be sure to replace this with your own code before running the code cell.\n",
    "- Feel free to open the hints for additional guidance as you work on each task.\n",
    "- To enter your answer to a question, double-click the markdown cell to edit. Be sure to replace the \"[Double-click to enter your responses here.]\" with your own answer.\n",
    "- You can save your work manually by clicking File and then Save in the menu bar at the top of the notebook.\n",
    "- You can download your work locally by clicking File and then Download and then specifying your preferred file format in the menu bar at the top of the notebook.\n",
    "</details>\n",
    "\n",
    "## Scenario\n",
    "You are a security analyst who is responsible for writing code that will automate analysis of login attempts made to a specific device. As the first step, you'll need to create variables to keep track of information relevant to the login process. This information includes the device ID, list of approved usernames, maximum login attempts allowed per user, current login attempts made by a user, and login status.\n",
    "\n",
    "Throughout this lab, you'll assign these variables and check the data types of the variables.\n",
    "\n",
    "## Task 1\n",
    "In your work as an analyst, imagine there is a device only users specified on an allow list can access, and its device ID is `\"72e08x0\"`.\n",
    "\n",
    "In the following code cell, assign this value to a variable named `device_id`. Then display the contents of the variable and observe the output.  \n",
    "\n",
    "Be sure to replace each `### YOUR CODE HERE ###` with your own code before you run the following cell.\n"
   ]
  },
  {
   "cell_type": "code",
   "execution_count": 1,
   "metadata": {},
   "outputs": [
    {
     "name": "stdout",
     "output_type": "stream",
     "text": [
      "72e08x0\n"
     ]
    }
   ],
   "source": [
    "\n",
    "# Assign the `device_id` variable to the device ID that only specified users can access\n",
    "\n",
    "device_id = \"72e08x0\"\n",
    "\n",
    "# Display `device_id`\n",
    "\n",
    "print(device_id)\n"
   ]
  },
  {
   "attachments": {},
   "cell_type": "markdown",
   "metadata": {},
   "source": [
    "\n",
    "\n",
    "<details>\n",
    "  <summary><h4><strong>Hint 1</strong></h4></summary>\n",
    "\n",
    "Use quotation marks around the value that you assign to the `device_id` variable.\n",
    "\n",
    "</details>\n",
    "\n",
    "<details>\n",
    "  <summary><h4><strong>Hint 2</strong></h4></summary>\n",
    "\n",
    "Assign the value `\"72e08x0\"` to the variable `device_id`. To do this, place the value to right of the `=` operator.\n",
    "\n",
    "</details>\n",
    "\n",
    "<details>\n",
    "  <summary><h4><strong>Hint 3</strong></h4></summary>\n",
    "\n",
    "To display the contents of `device_id`, call the `print()` function, and pass in `device_id` as the argument.\n",
    "\n",
    "</details>\n",
    "\n",
    "## Task 2\n",
    "Now that the variable `device_id` is defined, you can return its data type.\n",
    "\n",
    "In this task, use a Python function to find the data type of the variable `device_id`. Then, store the data type in another variable called `device_id_type` and display it to examine the output.\n",
    "\n",
    "Be sure to replace each `### YOUR CODE HERE ###` with your own code before you run the following cell.\n"
   ]
  },
  {
   "cell_type": "code",
   "execution_count": 2,
   "metadata": {},
   "outputs": [
    {
     "name": "stdout",
     "output_type": "stream",
     "text": [
      "<class 'str'>\n"
     ]
    }
   ],
   "source": [
    "# Assign the `device_id` variable to the device ID that only specified users can access\n",
    "\n",
    "device_id = \"72e08x0\"\n",
    "\n",
    "# Assign `device_id_type` to the data type of `device_id`\n",
    "\n",
    "device_id_type = type(device_id)\n",
    "\n",
    "# Display `device_id_type`\n",
    "\n",
    "print(device_id_type)"
   ]
  },
  {
   "attachments": {},
   "cell_type": "markdown",
   "metadata": {},
   "source": [
    "<details>\n",
    "  <summary><h4><strong>Hint 1</strong></h4></summary>\n",
    "\n",
    "The `type()` function allows you to get the data type of a given value.\n",
    "\n",
    "</details>\n",
    "\n",
    "<details>\n",
    "  <summary><h4><strong>Hint 2</strong></h4></summary>\n",
    "\n",
    "Use `type(device_id)` to get the data type of the `device_id` variable.\n",
    "\n",
    "</details>\n",
    "\n",
    "<details>\n",
    "  <summary><h4><strong>Hint 3</strong></h4></summary>\n",
    "\n",
    "To display `device_id_type`, place the name of this variable inside the `print()` function.\n",
    "\n",
    "</details>\n",
    "\n",
    "#### **Question 1**\n",
    "**Based on the output above, what do you observe about the data type of `device_id`?**\n",
    "\n",
    "The output above shows that the data type of `device_id` is `str`, which means that `device_id` stores a string value.\n",
    "\n",
    "## Task 3\n",
    "As you continue your work, you're provided a list of usernames of users who are allowed to access the device. The usernames with this access are `\"madebowa\"`, `\"jnguyen\"`, `\"tbecker\"`, `\"nhersh\"`, and `\"redwards\"`.\n",
    "\n",
    "In this task, create a variable called `username_list`. Then, create a list with the approved usernames and assign it to this variable.\n",
    "\n",
    "Be sure to replace each `### YOUR CODE HERE ###` with your own code before you run the following cell.\n"
   ]
  },
  {
   "cell_type": "code",
   "execution_count": 3,
   "metadata": {},
   "outputs": [
    {
     "name": "stdout",
     "output_type": "stream",
     "text": [
      "['madebowa', 'jnguyen', 'tbecker', 'nhersh', 'redwards']\n"
     ]
    }
   ],
   "source": [
    "# Assign `username_list` to the list of usernames who are allowed to access the device\n",
    "\n",
    "username_list = [\"madebowa\", \"jnguyen\", \"tbecker\", \"nhersh\", \"redwards\"]\n",
    "\n",
    "# Display `username_list`\n",
    "\n",
    "print(username_list)"
   ]
  },
  {
   "attachments": {},
   "cell_type": "markdown",
   "metadata": {},
   "source": [
    "<details>\n",
    "  <summary><h4><strong>Hint 1</strong></h4></summary>\n",
    "\n",
    "To create a list in Python, use square brackets. Inside the square brackets, write the elements of the list, with a comma between elements.\n",
    "\n",
    "</details>\n",
    "\n",
    "<details>\n",
    "  <summary><h4><strong>Hint 2</strong></h4></summary>\n",
    "\n",
    "To assign a value to a variable in Python, place the name of the variable to the left of the `=` operator, and place the value to the right of the `=` operator.\n",
    "\n",
    "In this task, make sure to place `username_list` to the left of the `=` operator.\n",
    "\n",
    "</details>\n",
    "\n",
    "<details>\n",
    "  <summary><h4><strong>Hint 3</strong></h4></summary>\n",
    "\n",
    "To display the value of a variable, call the `print()` function and pass in the name of the variable.\n",
    "\n",
    "In this task, make sure to call `print()` and pass in `username_list`.\n",
    "\n",
    "</details>\n",
    "\n",
    "## Task 4\n",
    "In this task, find the data type of the `username_list`. Store the type in a variable called `username_list_type` and display it to examine the output.\n",
    "\n",
    "Be sure to replace each `### YOUR CODE HERE ###` with your own code before you run the following cell.\n"
   ]
  },
  {
   "cell_type": "code",
   "execution_count": 4,
   "metadata": {},
   "outputs": [
    {
     "name": "stdout",
     "output_type": "stream",
     "text": [
      "<class 'list'>\n"
     ]
    }
   ],
   "source": [
    "# Assign `username_list` to the list of usernames who are allowed to access the device\n",
    "\n",
    "username_list = [\"madebowa\", \"jnguyen\", \"tbecker\", \"nhersh\", \"redwards\"]\n",
    "\n",
    "# Assign `username_list_type` to the data type of `username_list`\n",
    "\n",
    "username_list_type = type(username_list)\n",
    "\n",
    "# Display `username_list_type`\n",
    "\n",
    "print(username_list_type)\n"
   ]
  },
  {
   "attachments": {},
   "cell_type": "markdown",
   "metadata": {},
   "source": [
    "<details>\n",
    "  <summary><h4><strong>Hint 1</strong></h4></summary>\n",
    "\n",
    "The `type()` function allows you to get the data type of a given value.\n",
    "\n",
    "</details>\n",
    "\n",
    "<details>\n",
    "  <summary><h4><strong>Hint 2</strong></h4></summary>\n",
    "\n",
    "To get the data type of `username_list`, call the `type()` function and pass in `username_list`.\n",
    "\n",
    "Assign `username_list_type` to that function call.\n",
    "\n",
    "</details>\n",
    "\n",
    "<details>\n",
    "  <summary><h4><strong>Hint 3</strong></h4></summary>\n",
    "\n",
    "To display `username_list_type`, call the `print()` function and pass in `username_list_type`.\n",
    "\n",
    "</details>\n",
    "\n",
    "#### **Question 2**\n",
    "**Based on the output above, what do you observe about the data type of `username_list`?**\n",
    "\n",
    "The output above shows that the data type of `username_list` is `list`, which means that `username_list` stores a list.\n",
    "\n",
    "## Task 5\n",
    "Now, imagine that you've been informed that the previous list is not up-to-date and that there is another employee that now has access to the device. You're given the updated list of usernames with access, including the new employee, as follows: `\"madebowa\"`, `\"jnguyen\"`, `\"tbecker\"`, `\"nhersh\"`, `\"redwards\"`, and `\"lpope\"`.\n",
    "\n",
    "In this task, reassign the variable `username_list` to the new list. Run the code to display the list before and after it's been updated to observe the difference.\n",
    "\n",
    "Be sure to replace each `### YOUR CODE HERE ###` with your own code before you run the following cell."
   ]
  },
  {
   "cell_type": "code",
   "execution_count": 5,
   "metadata": {},
   "outputs": [
    {
     "name": "stdout",
     "output_type": "stream",
     "text": [
      "['madebowa', 'jnguyen', 'tbecker', 'nhersh', 'redwards']\n",
      "['madebowa', 'jnguyen', 'tbecker', 'nhersh', 'redwards', 'lpope']\n"
     ]
    }
   ],
   "source": [
    "# Assign `username_list` to the list of usernames who are allowed to access the device\n",
    "\n",
    "username_list = [\"madebowa\", \"jnguyen\", \"tbecker\", \"nhersh\", \"redwards\"]\n",
    "\n",
    "# Display `username_list`\n",
    "\n",
    "print(username_list)\n",
    "\n",
    "# Assign `username_list` to the updated list of usernames who are allowed to access the device\n",
    "\n",
    "username_list = [\"madebowa\", \"jnguyen\", \"tbecker\", \"nhersh\", \"redwards\", \"lpope\"]\n",
    "\n",
    "# Display `username_list`\n",
    "\n",
    "print(username_list)\n"
   ]
  },
  {
   "attachments": {},
   "cell_type": "markdown",
   "metadata": {},
   "source": [
    "<details>\n",
    "  <summary><h4><strong>Hint 1</strong></h4></summary>\n",
    "\n",
    "When reassigning a variable to a new value in Python, place the name of the variable to the left of the `=` operator, just as you would when assigning the variable for the first time.\n",
    "\n",
    "</details>\n",
    "\n",
    "<details>\n",
    "  <summary><h4><strong>Hint 2</strong></h4></summary>\n",
    "\n",
    "To reassign `username_list` to the updated list, place `username_list` to the left of the `=` operator.\n",
    "\n",
    "</details>\n",
    "\n",
    "#### **Question 3**\n",
    "**Based on the output above, what do you observe about the contents of `username_list`?**\n",
    "\n",
    "The output above shows that the contents of `username_list` were updated after the variable was reassigned to the new list.\n",
    "\n",
    "The first `print()` call output the original contents of the list. The second `print()` call output the updated contents, which includes the newly added username, `\"lpope\"`.\n",
    "\n",
    "## Task 6\n",
    "In this task, define a variable called `max_logins` that represents the maximum number of login attempts allowed per user. Store the value `3` in this variable. Then, store its data type in another variable called `max_logins_type` and display it to examine the output.\n",
    "\n",
    "Be sure to replace each `### YOUR CODE HERE ###` with your own code before you run the following cell.\n"
   ]
  },
  {
   "cell_type": "code",
   "execution_count": 6,
   "metadata": {},
   "outputs": [
    {
     "name": "stdout",
     "output_type": "stream",
     "text": [
      "<class 'int'>\n"
     ]
    }
   ],
   "source": [
    "# Assign `max_logins` to the value 3\n",
    "\n",
    "max_logins = 3\n",
    "\n",
    "# Assign `max_logins_type` to the data type of `max_logins`\n",
    "\n",
    "max_logins_type = type(max_logins)\n",
    "\n",
    "# Display `max_login_type`\n",
    "\n",
    "print(max_logins_type)\n"
   ]
  },
  {
   "attachments": {},
   "cell_type": "markdown",
   "metadata": {},
   "source": [
    "<details>\n",
    "  <summary><h4><strong>Hint 1</strong></h4></summary>\n",
    "\n",
    "When assigning a value to a variable in Python, use the `=` operator. Place the name of the variable to the left of the `=` operator, and place the value to the right of the `=` operator.\n",
    "\n",
    "</details>\n",
    "\n",
    "<details>\n",
    "  <summary><h4><strong>Hint 2</strong></h4></summary>\n",
    "\n",
    "To assign `3` to `max_logins`, place `max_logins` to the left of the `=` operator, and place `3` to the right of the `=` operator.\n",
    "\n",
    "To assign `max_logins_type`, place `max_logins_type` to the left of the `=` operator before the `type()` function call.\n",
    "\n",
    "</details>\n",
    "\n",
    "<details>\n",
    "  <summary><h4><strong>Hint 3</strong></h4></summary>\n",
    "\n",
    "In Python, you can use the `print()` function to display the value of a variable.\n",
    "\n",
    "To display `max_logins_type`, call `print()` and pass in `max_logins_type`.\n",
    "\n",
    "</details>\n",
    "\n",
    "#### **Question 4**\n",
    "**Based on the output above, what do you observe about the data type of `max_logins`?**\n",
    "\n",
    "The output above shows that the data type of `max_logins` is `int`, which means that `max_logins` stores an integer value.\n",
    "\n",
    "## Task 7\n",
    "In this task, define a variable called `login_attempts` that represents the current number of login attempts made by a user. Store the value `2` in this variable. Then, store `login_attempts` data type in a variable called `login_attempts_type` and then print it to observe the output.\n",
    "\n",
    "Be sure to replace each `### YOUR CODE HERE ###` with your own code before you run the following cell.\n"
   ]
  },
  {
   "cell_type": "code",
   "execution_count": 7,
   "metadata": {},
   "outputs": [
    {
     "name": "stdout",
     "output_type": "stream",
     "text": [
      "<class 'int'>\n"
     ]
    }
   ],
   "source": [
    "# Assign `login_attempts` to the value 2\n",
    "\n",
    "login_attempts = 2\n",
    "\n",
    "# Assign `login_attempts_type` to the data type of `login_attempts`\n",
    "\n",
    "login_attempts_type = type(login_attempts)\n",
    "\n",
    "# Display `login_attempts_type`\n",
    "\n",
    "print(login_attempts_type)\n"
   ]
  },
  {
   "attachments": {},
   "cell_type": "markdown",
   "metadata": {},
   "source": [
    "<details>\n",
    "  <summary><h4><strong>Hint 1</strong></h4></summary>\n",
    "\n",
    "When assigning a value to a variable in Python, use the `=` operator. Place the name of the variable to the left of the `=` operator, and place the value to the right of the `=` operator.\n",
    "\n",
    "</details>\n",
    "\n",
    "<details>\n",
    "  <summary><h4><strong>Hint 2</strong></h4></summary>\n",
    "\n",
    "To assign `2` to `login_attempts`, place `login_attempts` to the left of the `=` operator, and place `2` to the right of the `=` operator.\n",
    "\n",
    "To assign `login_attempts_type`, place `login_attempts_type` to the left of the `=` operator, and place a call to the `type()` function to the right of the `=` operator.\n",
    "\n",
    "When calling `type()`, make sure to pass in `login_attempts`.\n",
    "\n",
    "</details>\n",
    "\n",
    "<details>\n",
    "  <summary><h4><strong>Hint 3</strong></h4></summary>\n",
    "\n",
    "In Python, you can use the `print()` function to display the value of a variable.\n",
    "\n",
    "To display `login_attempts_type`, call `print()` and pass in `login_attempts_type`.\n",
    "\n",
    "</details>\n",
    "\n",
    "#### **Question 5**\n",
    "**Based on the output above, what do you observe about the data type of `login_attempts_type`?**\n",
    "\n",
    "The output above shows that the data type of `login_attempts_type` is `int`, which means that `login_attempts_type` stores an integer value.\n",
    "\n",
    "## Task 8\n",
    "In this task, you'll determine the Boolean value that represents whether the current number of login attempts a user has made is less than or equal to the maximum number of login attempts allowed.\n",
    "\n",
    "Be sure to replace each `### YOUR CODE HERE ###` with your own code before you run the following cell.\n"
   ]
  },
  {
   "cell_type": "code",
   "execution_count": 8,
   "metadata": {},
   "outputs": [
    {
     "name": "stdout",
     "output_type": "stream",
     "text": [
      "True\n"
     ]
    }
   ],
   "source": [
    "# Assign `max_logins` to the value 3\n",
    "\n",
    "max_logins = 3\n",
    "\n",
    "# Assign `login_attempts` to the value 2\n",
    "\n",
    "login_attempts = 2\n",
    "\n",
    "# Determine whether the current number of login attempts a user has made is less than or equal to the maximum number of login attempts allowed,\n",
    "# and display the resulting Boolean value\n",
    "\n",
    "print(login_attempts <= max_logins)\n"
   ]
  },
  {
   "attachments": {},
   "cell_type": "markdown",
   "metadata": {},
   "source": [
    "<details>\n",
    "  <summary><h4><strong>Hint 1</strong></h4></summary>\n",
    "\n",
    "In Python, you can use the `<=` comparison operator to determine whether one value is less than or equal to another value.\n",
    "\n",
    "</details>\n",
    "\n",
    "<details>\n",
    "  <summary><h4><strong>Hint 2</strong></h4></summary>\n",
    "\n",
    "To determine whether the current number of login attempts a user has made is less than or equal to the maximum number of login attempts allowed, use the `<=` operator. Place `login_attempts` to the left of the `<=` operator, and place `max_logins` to the right of the `<=` operator.\n",
    "\n",
    "To make sure the resulting Boolean value is displayed, write this code inside of the parantheses where `print()` is called.\n",
    "\n",
    "</details>\n",
    "\n",
    "#### **Question 6**\n",
    "**What is the output? What does this mean?**\n",
    "\n",
    "The output above is `True`, which indicates that `login_attempts` is less than or equal to `max_logins`. In other words, the current number of attempts the user has made to log in has not yet exceeded the maximum number of attempts allowed.\n",
    "\n",
    "## Task 9\n",
    "This code continues to check for the Boolean value of whether `max_logins` is less than or equal to `login_attempts`. In this task, reassign other values to `login_attempts`. Observe how the output changes.\n",
    "\n",
    "Be sure to replace each `### YOUR CODE HERE ###` with your own code before you run the following cell.\n"
   ]
  },
  {
   "cell_type": "code",
   "execution_count": 9,
   "metadata": {},
   "outputs": [
    {
     "name": "stdout",
     "output_type": "stream",
     "text": [
      "False\n"
     ]
    }
   ],
   "source": [
    "# Assign `max_logins` to the value 3\n",
    "\n",
    "max_logins = 3\n",
    "\n",
    "# Assign `login_attempts` to a specific value\n",
    "\n",
    "login_attempts = 4\n",
    "\n",
    "# Determine whether the current number of login attempts a user has made is less than or equal to the maximum number of login attempts allowed,\n",
    "# and display the resulting Boolean value\n",
    "\n",
    "print(login_attempts <= max_logins)\n"
   ]
  },
  {
   "attachments": {},
   "cell_type": "markdown",
   "metadata": {},
   "source": [
    "<details>\n",
    "  <summary><h4><strong>Hint 1</strong></h4></summary>\n",
    "\n",
    "To assign a specific value to `login_attempts`, make sure to write the value to the right of the `=` operator.\n",
    "\n",
    "</details>\n",
    "\n",
    "#### **Question 7**\n",
    "**Based on the different values you assigned to `login_attempts`, what did you observe about the output?**\n",
    "\n",
    "The Boolean value in the output changes depending on the value assigned to `login_attempts`. For example, when `login_attempts` is assigned to `4`, the output is `False`, which indicates that `login_attempts` is not less than or equal to `max_logins`. In other words, the current number of log in attempts the user has made has exceeded the maximum number of attempts allowed.\n",
    "\n",
    "## Task 10\n",
    "Finally, you can also assign a Boolean value of `True` or `False` to a variable.\n",
    "\n",
    "In this task, you'll create a variable called `login_status`, which is a Boolean that represents whether a user is logged in. Assign `False` to this variable and store its data type in a variable called `login_status_type` and display it.\n",
    "\n",
    "Be sure to replace each `### YOUR CODE HERE ###` with your own code before you run the following cell."
   ]
  },
  {
   "cell_type": "code",
   "execution_count": 10,
   "metadata": {},
   "outputs": [
    {
     "name": "stdout",
     "output_type": "stream",
     "text": [
      "<class 'bool'>\n"
     ]
    }
   ],
   "source": [
    "# Assign `login_status` to the Boolean value False\n",
    "\n",
    "login_status = False\n",
    "\n",
    "# Assign `login_status_type` to the data type of `login_status`\n",
    "\n",
    "login_status_type = type(login_status)\n",
    "\n",
    "# Display `login_status_type`\n",
    "\n",
    "print(login_status_type)"
   ]
  },
  {
   "attachments": {},
   "cell_type": "markdown",
   "metadata": {},
   "source": [
    "<details>\n",
    "  <summary><h4><strong>Hint 1</strong></h4></summary>\n",
    "\n",
    "To assign the Boolean value `False` to the `login_status` variable, make sure to write `False` to the right of the `=` operator.\n",
    "\n",
    "</details>\n",
    "\n",
    "<details>\n",
    "  <summary><h4><strong>Hint 2</strong></h4></summary>\n",
    "\n",
    "Note that Boolean values should not have quotation marks around them in code.\n",
    "\n",
    "</details>\n",
    "\n",
    "#### **Question 8**\n",
    "**Based on the output above, what do you observe about the data type of `login_status`?**\n",
    "\n",
    "The output above shows that the data type of the `login_status` is `bool`, which means that `login_status` stores a Boolean value.\n",
    "\n",
    "## Conclusion\n",
    "\n",
    "**What are your key takeaways from this lab?**\n",
    "\n",
    "- There are many useful operators in Python that help you work with variables.\n",
    "  - The `=` assignment operator allows you to assign or reassign a specific value to a variable.\n",
    "  - The `<=` comparison operator allows you to compare the value of one variable to the value of another.\n",
    "- The `type()` function in Python helps you to determine the data type of an object.\n",
    "  - If you pass in a variable to `type()`, it will output the data type of the value stored in the variable.\n",
    "- The `print()` function in Python allows you to display information.\n",
    "  - It can take in a value directly, a variable that stores a value, or a comparison between variables that evaluates to a Boolean value."
   ]
  }
 ],
 "metadata": {
  "kernelspec": {
   "display_name": "venv",
   "language": "python",
   "name": "python3"
  },
  "language_info": {
   "codemirror_mode": {
    "name": "ipython",
    "version": 3
   },
   "file_extension": ".py",
   "mimetype": "text/x-python",
   "name": "python",
   "nbconvert_exporter": "python",
   "pygments_lexer": "ipython3",
   "version": "3.11.3"
  },
  "orig_nbformat": 4
 },
 "nbformat": 4,
 "nbformat_minor": 2
}
